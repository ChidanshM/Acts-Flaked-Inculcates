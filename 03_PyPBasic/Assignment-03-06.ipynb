{
  "nbformat": 4,
  "nbformat_minor": 0,
  "metadata": {
    "colab": {
      "name": "Assignment-03-06.ipynb",
      "provenance": [],
      "collapsed_sections": [],
      "authorship_tag": "ABX9TyO4AzEGd9lKPxZ33DFs3Ixx",
      "include_colab_link": true
    },
    "kernelspec": {
      "name": "python3",
      "display_name": "Python 3"
    },
    "language_info": {
      "name": "python"
    }
  },
  "cells": [
    {
      "cell_type": "markdown",
      "metadata": {
        "id": "view-in-github",
        "colab_type": "text"
      },
      "source": [
        "<a href=\"https://colab.research.google.com/github/ChidanshM/FSDS/blob/main/03_PyPBasic/Assignment-03-06.ipynb\" target=\"_parent\"><img src=\"https://colab.research.google.com/assets/colab-badge.svg\" alt=\"Open In Colab\"/></a>"
      ]
    },
    {
      "cell_type": "markdown",
      "source": [
        "# 03-Python_Programming_Basic_Assignment: \n",
        "## Assignment 06"
      ],
      "metadata": {
        "id": "T3IzOhU30thm"
      }
    },
    {
      "cell_type": "markdown",
      "source": [
        "### 1. Write a Python Program to Display Fibonacci Sequence Using Recursion?\n"
      ],
      "metadata": {
        "id": "bUQn8_UM1CLQ"
      }
    },
    {
      "cell_type": "code",
      "source": [
        "def fib(n,i=0,j=1):\n",
        "  if n == 0:\n",
        "    print(i)\n",
        "  else:\n",
        "    print(i)\n",
        "    fib(n-1,j,i+j)\n",
        "fib(int(input(\"Enter num. of terms:\")))"
      ],
      "metadata": {
        "colab": {
          "base_uri": "https://localhost:8080/"
        },
        "id": "-M-B0m8j48UV",
        "outputId": "5a593312-174c-4040-e34b-4990eddf22c3"
      },
      "execution_count": null,
      "outputs": [
        {
          "output_type": "stream",
          "name": "stdout",
          "text": [
            "Enter num. of terms:5\n",
            "0\n",
            "1\n",
            "1\n",
            "2\n",
            "3\n",
            "5\n"
          ]
        }
      ]
    },
    {
      "cell_type": "markdown",
      "source": [
        "### 2. Write a Python Program to Find Factorial of Number Using Recursion?\n"
      ],
      "metadata": {
        "id": "Aq82afj64Lag"
      }
    },
    {
      "cell_type": "code",
      "source": [
        "def factorial(n,f=1):\n",
        "  if n>1:\n",
        "    factorial(n-1,f*n)\n",
        "  else:\n",
        "    print(f)\n",
        "factorial(int(input(\"Enter:\")))"
      ],
      "metadata": {
        "colab": {
          "base_uri": "https://localhost:8080/"
        },
        "id": "PPnBfoLq7cdO",
        "outputId": "e997efeb-5379-4918-b825-e148c7884687"
      },
      "execution_count": null,
      "outputs": [
        {
          "output_type": "stream",
          "name": "stdout",
          "text": [
            "Enter:5\n",
            "120\n"
          ]
        }
      ]
    },
    {
      "cell_type": "markdown",
      "source": [
        "### 3. Write a Python Program to calculate your Body Mass Index?\n"
      ],
      "metadata": {
        "id": "eUF6KHUy4OiR"
      }
    },
    {
      "cell_type": "code",
      "source": [
        "print(f'BMI: {float(input(\"Enter weight in Kg:\"))/float(input(\"Enter height in m:\"))**2:.2f}')"
      ],
      "metadata": {
        "colab": {
          "base_uri": "https://localhost:8080/"
        },
        "id": "er-u2lDA9ioz",
        "outputId": "19fefc28-f57b-425c-b040-510e8d1a477c"
      },
      "execution_count": null,
      "outputs": [
        {
          "output_type": "stream",
          "name": "stdout",
          "text": [
            "Enter weight in Kg:80\n",
            "Enter height in m:1.87\n",
            "BMI: 22.88\n"
          ]
        }
      ]
    },
    {
      "cell_type": "markdown",
      "source": [
        "### 4. Write a Python Program to calculate the natural logarithm of any number?\n"
      ],
      "metadata": {
        "id": "_x6X_wP44Qct"
      }
    },
    {
      "cell_type": "code",
      "source": [
        "from math import log\n",
        "print(f\"Natural Log: {log(int(input('Enter:'))):.4f}\")"
      ],
      "metadata": {
        "colab": {
          "base_uri": "https://localhost:8080/"
        },
        "id": "W9LOk5Fb-z7_",
        "outputId": "666ba4c6-4f1c-4648-b7b3-90338b6a8d86"
      },
      "execution_count": null,
      "outputs": [
        {
          "output_type": "stream",
          "name": "stdout",
          "text": [
            "Enter:5\n",
            "Natural Log: 1.6094\n"
          ]
        }
      ]
    },
    {
      "cell_type": "markdown",
      "source": [
        "### 5. Write a Python Program for cube sum of first n natural numbers?"
      ],
      "metadata": {
        "id": "6n784D8t4Tgn"
      }
    },
    {
      "cell_type": "code",
      "source": [
        "n=int(input('Enter:'))\n",
        "print(f\"Natural Log: {0.25*n**2*(n+1)**2}\")"
      ],
      "metadata": {
        "colab": {
          "base_uri": "https://localhost:8080/"
        },
        "id": "MqAQ1sxv_8R9",
        "outputId": "16019452-a067-4905-f0bb-4a519f949f20"
      },
      "execution_count": null,
      "outputs": [
        {
          "output_type": "stream",
          "name": "stdout",
          "text": [
            "Enter:5\n",
            "Natural Log: 225.0\n"
          ]
        }
      ]
    }
  ]
}