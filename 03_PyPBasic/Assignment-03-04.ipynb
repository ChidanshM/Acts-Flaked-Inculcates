{
  "nbformat": 4,
  "nbformat_minor": 0,
  "metadata": {
    "colab": {
      "name": "Assignment-03-04.ipynb",
      "provenance": [],
      "collapsed_sections": [],
      "authorship_tag": "ABX9TyMA1qyXmBQaEOfSW8Be1rrF",
      "include_colab_link": true
    },
    "kernelspec": {
      "name": "python3",
      "display_name": "Python 3"
    },
    "language_info": {
      "name": "python"
    }
  },
  "cells": [
    {
      "cell_type": "markdown",
      "metadata": {
        "id": "view-in-github",
        "colab_type": "text"
      },
      "source": [
        "<a href=\"https://colab.research.google.com/github/ChidanshM/FSDS/blob/main/03_PyPBasic/Assignment-03-04.ipynb\" target=\"_parent\"><img src=\"https://colab.research.google.com/assets/colab-badge.svg\" alt=\"Open In Colab\"/></a>"
      ]
    },
    {
      "cell_type": "markdown",
      "source": [
        "# 03-Python_Programming_Basic_Assignment: \n",
        "## Assignment 03\n"
      ],
      "metadata": {
        "id": "T3IzOhU30thm"
      }
    },
    {
      "cell_type": "markdown",
      "source": [
        "### 1. Write a Python Program to Find the Factorial of a Number?"
      ],
      "metadata": {
        "id": "bUQn8_UM1CLQ"
      }
    },
    {
      "cell_type": "code",
      "source": [
        "n,f=int(input(\"Enter a number: \")),1\n",
        "for _ in range(2,n+1):\n",
        "  f=f*_\n",
        "print(\"Factorial:\",f)"
      ],
      "metadata": {
        "colab": {
          "base_uri": "https://localhost:8080/"
        },
        "id": "58efZqa2Xg2T",
        "outputId": "0b33f7ac-9c1f-48d2-ba0e-f9eb059bb4e3"
      },
      "execution_count": null,
      "outputs": [
        {
          "output_type": "stream",
          "name": "stdout",
          "text": [
            "Enter a number:4\n",
            "Factorial: 24\n"
          ]
        }
      ]
    },
    {
      "cell_type": "code",
      "source": [
        "from math import factorial\n",
        "print(\"Factorial:\",factorial(int(input(\"Enter:\"))))"
      ],
      "metadata": {
        "colab": {
          "base_uri": "https://localhost:8080/"
        },
        "id": "4qygw7QEHt8h",
        "outputId": "3292acf0-1a72-42ea-d3ec-4f91e9de2222"
      },
      "execution_count": null,
      "outputs": [
        {
          "output_type": "stream",
          "name": "stdout",
          "text": [
            "Enter a number:4\n",
            "Factorial: 24\n"
          ]
        }
      ]
    },
    {
      "cell_type": "markdown",
      "source": [
        "### 2. Write a Python Program to Display the multiplication Table?"
      ],
      "metadata": {
        "id": "Nd-NPW1lNScB"
      }
    },
    {
      "cell_type": "code",
      "source": [
        "n=int(input(\"Enter:\"))\n",
        "for i in range(1,11):\n",
        "  print(n,'x',i,'=',n*1)"
      ],
      "metadata": {
        "id": "t_In0lnzXsSl"
      },
      "execution_count": null,
      "outputs": []
    },
    {
      "cell_type": "markdown",
      "source": [
        "### 3. Write a Python Program to Print the Fibonacci sequence?\n"
      ],
      "metadata": {
        "id": "7lUnCKeyOXCY"
      }
    },
    {
      "cell_type": "code",
      "source": [
        "sq5=5**0.5\n",
        "P,p=0.5+sq5/2,0.5-sq5/2\n",
        "print(', '.join([str(int((P**i - p**i)/sq5)) for i in range(int(input(\"Enter:\"))+1)]))"
      ],
      "metadata": {
        "id": "gyi2QqTyX83U",
        "colab": {
          "base_uri": "https://localhost:8080/"
        },
        "outputId": "8071b4e5-d3e9-4fe4-9915-4be2484afd26"
      },
      "execution_count": null,
      "outputs": [
        {
          "output_type": "stream",
          "name": "stdout",
          "text": [
            "Enter:20\n",
            "0, 1, 1, 2, 3, 5, 8, 13, 21, 34, 55, 89, 144, 233, 377, 610, 987, 1597, 2584, 4181, 6765\n"
          ]
        }
      ]
    },
    {
      "cell_type": "markdown",
      "source": [
        "### 4. Write a Python Program to Check Armstrong Number?"
      ],
      "metadata": {
        "id": "EpBRvrYYPwio"
      }
    },
    {
      "cell_type": "code",
      "source": [
        "n=input(\"Enter:\")\n",
        "l=len(n)\n",
        "\"Armstrong Numner\" if sum([ int(_)**l for _ in n]) == int(n) else \"Not an Armstrong Numner\""
      ],
      "metadata": {
        "id": "doTALcDxYvDw",
        "colab": {
          "base_uri": "https://localhost:8080/",
          "height": 55
        },
        "outputId": "9d6090e3-c9a6-4c58-d108-a680a00d67c1"
      },
      "execution_count": null,
      "outputs": [
        {
          "name": "stdout",
          "output_type": "stream",
          "text": [
            "Enter a number:135\n"
          ]
        },
        {
          "output_type": "execute_result",
          "data": {
            "text/plain": [
              "'Not an Armstrong Numner'"
            ],
            "application/vnd.google.colaboratory.intrinsic+json": {
              "type": "string"
            }
          },
          "metadata": {},
          "execution_count": 10
        }
      ]
    },
    {
      "cell_type": "markdown",
      "source": [
        "### 5. Write a Python Program to Find Armstrong Number in an Interval?"
      ],
      "metadata": {
        "id": "1qFz-HLlRD4_"
      }
    },
    {
      "cell_type": "code",
      "source": [
        "for n in range(int(input(\"Enter Start:\")),int(input(\"Enter End:\"))):\n",
        "  n=str(n)\n",
        "  l=len(n)\n",
        "  if sum([ int(_)**l for _ in n]) == int(n):\n",
        "    print(n)"
      ],
      "metadata": {
        "id": "9PzLAlBXZPPi",
        "colab": {
          "base_uri": "https://localhost:8080/"
        },
        "outputId": "d0bfd0d5-82eb-4591-caf2-5ae87bc68517"
      },
      "execution_count": null,
      "outputs": [
        {
          "output_type": "stream",
          "name": "stdout",
          "text": [
            "Enter Start:12\n",
            "Enter End:2000\n",
            "153\n",
            "370\n",
            "371\n",
            "407\n",
            "1634\n"
          ]
        }
      ]
    },
    {
      "cell_type": "markdown",
      "source": [
        "### 6. Write a Python Program to Find the Sum of Natural Numbers?"
      ],
      "metadata": {
        "id": "_ZdYO3I4GC7k"
      }
    },
    {
      "cell_type": "code",
      "source": [
        "print(sum(list(range(int(input(\"Enter:\"))+1))))\n",
        "n=int(input(\"Enter:\"))\n",
        "print((n**2+n)*0.5)"
      ],
      "metadata": {
        "id": "5AAs9ESTGP-6",
        "colab": {
          "base_uri": "https://localhost:8080/"
        },
        "outputId": "4fc813b3-d172-48d6-9462-d3af0fa6e2dd"
      },
      "execution_count": null,
      "outputs": [
        {
          "output_type": "stream",
          "name": "stdout",
          "text": [
            "Enter:20\n",
            "210\n",
            "Enter:20\n",
            "210.0\n"
          ]
        }
      ]
    }
  ]
}