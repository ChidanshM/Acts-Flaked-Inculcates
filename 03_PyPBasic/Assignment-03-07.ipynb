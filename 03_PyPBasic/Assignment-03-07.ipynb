{
  "nbformat": 4,
  "nbformat_minor": 0,
  "metadata": {
    "colab": {
      "name": "Assignment-03-07.ipynb",
      "provenance": [],
      "collapsed_sections": [],
      "authorship_tag": "ABX9TyM60RNArz2Hf2ANNvo9oEmo",
      "include_colab_link": true
    },
    "kernelspec": {
      "name": "python3",
      "display_name": "Python 3"
    },
    "language_info": {
      "name": "python"
    }
  },
  "cells": [
    {
      "cell_type": "markdown",
      "metadata": {
        "id": "view-in-github",
        "colab_type": "text"
      },
      "source": [
        "<a href=\"https://colab.research.google.com/github/ChidanshM/FSDS/blob/main/03_PyPBasic/Assignment-03-07.ipynb\" target=\"_parent\"><img src=\"https://colab.research.google.com/assets/colab-badge.svg\" alt=\"Open In Colab\"/></a>"
      ]
    },
    {
      "cell_type": "markdown",
      "source": [
        "# 03-Python_Programming_Basic_Assignment: \n",
        "## Assignment 07"
      ],
      "metadata": {
        "id": "T3IzOhU30thm"
      }
    },
    {
      "cell_type": "markdown",
      "source": [
        "### 1. Write a Python Program to find sum of array?\n",
        "\n"
      ],
      "metadata": {
        "id": "bUQn8_UM1CLQ"
      }
    },
    {
      "cell_type": "code",
      "source": [
        "# 23 45 324 657 23 56 2\n",
        "# l=[23,45,324,657,23,56,2]\n",
        "l=[int(_) for _ in input(\"Enter in ssv: \").split(' ')]\n",
        "print(sum(l))"
      ],
      "metadata": {
        "id": "-M-B0m8j48UV",
        "colab": {
          "base_uri": "https://localhost:8080/"
        },
        "outputId": "64bb622a-6a85-4707-af6f-826e020d4a56"
      },
      "execution_count": 13,
      "outputs": [
        {
          "output_type": "stream",
          "name": "stdout",
          "text": [
            "Enter in ssv: 23 45 324 657 23 56 2\n",
            "1130\n"
          ]
        }
      ]
    },
    {
      "cell_type": "markdown",
      "source": [
        "### 2. Write a Python Program to find largest element in an array?\n"
      ],
      "metadata": {
        "id": "Aq82afj64Lag"
      }
    },
    {
      "cell_type": "code",
      "source": [
        "# 23 45 -324 657 23 56 2\n",
        "# l=[23,45,-324,657,23,56,2]\n",
        "l=[int(_) for _ in input(\"Enter in ssv: \").split(' ')]\n",
        "print(max(l))"
      ],
      "metadata": {
        "id": "PPnBfoLq7cdO",
        "colab": {
          "base_uri": "https://localhost:8080/"
        },
        "outputId": "8c56b904-de04-479c-9175-df26b06faa4f"
      },
      "execution_count": 14,
      "outputs": [
        {
          "output_type": "stream",
          "name": "stdout",
          "text": [
            "Enter in ssv: 23 45 -324 657 23 56 2\n",
            "657\n"
          ]
        }
      ]
    },
    {
      "cell_type": "markdown",
      "source": [
        "### 3. Write a Python Program for array rotation?\n"
      ],
      "metadata": {
        "id": "eUF6KHUy4OiR"
      }
    },
    {
      "cell_type": "code",
      "source": [
        "# 23 45 -324 657 23 56 2 \n",
        "# l=[23,45,-324,657,23,56,2]\n",
        "l=[int(_) for _ in input(\"Enter in ssv: \").split(' ')]\n",
        "l=l[::-1]\n",
        "print(l)"
      ],
      "metadata": {
        "id": "er-u2lDA9ioz",
        "colab": {
          "base_uri": "https://localhost:8080/"
        },
        "outputId": "06ee2068-836c-49a4-e093-3bc5c60ffaf7"
      },
      "execution_count": 16,
      "outputs": [
        {
          "output_type": "stream",
          "name": "stdout",
          "text": [
            "Enter in ssv: 23 45 -324 657 23 56 2\n",
            "[2, 56, 23, 657, -324, 45, 23]\n"
          ]
        }
      ]
    },
    {
      "cell_type": "markdown",
      "source": [
        "### 4. Write a Python Program to Split the array and add the first part to the end?\n",
        "\n"
      ],
      "metadata": {
        "id": "_x6X_wP44Qct"
      }
    },
    {
      "cell_type": "code",
      "source": [
        "#l=[23,45,-324,657,23,56,2]\n",
        "l=[int(_) for _ in input(\"Enter in ssv: \").split(' ')]\n",
        "a,b=l[:len(l)//2],l[len(l)//2:]\n",
        "l=b+a\n",
        "l"
      ],
      "metadata": {
        "id": "W9LOk5Fb-z7_",
        "colab": {
          "base_uri": "https://localhost:8080/"
        },
        "outputId": "f3298ae0-4774-4e96-eb9b-90a5526e5830"
      },
      "execution_count": 17,
      "outputs": [
        {
          "name": "stdout",
          "output_type": "stream",
          "text": [
            "Enter in ssv: 23 45 -324 657 23 56 2\n"
          ]
        },
        {
          "output_type": "execute_result",
          "data": {
            "text/plain": [
              "[657, 23, 56, 2, 23, 45, -324]"
            ]
          },
          "metadata": {},
          "execution_count": 17
        }
      ]
    },
    {
      "cell_type": "markdown",
      "source": [
        "### 5. Write a Python Program to check if given array is Monotonic?\n"
      ],
      "metadata": {
        "id": "6n784D8t4Tgn"
      }
    },
    {
      "cell_type": "code",
      "source": [
        "l=[int(_) for _ in input(\"Enter in ssv: \").split(' ')]\n",
        "if sorted(l) == l or sorted(l,reverse=True) == l:\n",
        "  print(\"Array is Monotonic\")\n",
        "else:\n",
        "  print(\"Array isn't Monotonic\")"
      ],
      "metadata": {
        "id": "MqAQ1sxv_8R9",
        "colab": {
          "base_uri": "https://localhost:8080/"
        },
        "outputId": "bf6ae4d4-0deb-4d39-e81f-a1ef24a8e93a"
      },
      "execution_count": 18,
      "outputs": [
        {
          "output_type": "stream",
          "name": "stdout",
          "text": [
            "Enter in ssv: 1 1 2 3 4 5 6 7\n",
            "Array is Monotonic\n"
          ]
        }
      ]
    }
  ]
}