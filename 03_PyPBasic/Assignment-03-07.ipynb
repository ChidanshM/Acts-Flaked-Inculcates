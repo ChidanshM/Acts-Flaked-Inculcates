{
  "cells": [
    {
      "cell_type": "markdown",
      "metadata": {
        "id": "T3IzOhU30thm"
      },
      "source": [
        "# 03-Python_Programming_Basic_Assignment: \n",
        "## Assignment 07"
      ]
    },
    {
      "cell_type": "markdown",
      "metadata": {
        "id": "bUQn8_UM1CLQ"
      },
      "source": [
        "### 1. Write a Python Program to find sum of array?\n",
        "\n"
      ]
    },
    {
      "cell_type": "code",
      "execution_count": 13,
      "metadata": {
        "colab": {
          "base_uri": "https://localhost:8080/"
        },
        "id": "-M-B0m8j48UV",
        "outputId": "64bb622a-6a85-4707-af6f-826e020d4a56"
      },
      "outputs": [
        {
          "name": "stdout",
          "output_type": "stream",
          "text": [
            "Enter in ssv: 23 45 324 657 23 56 2\n",
            "1130\n"
          ]
        }
      ],
      "source": [
        "# 23 45 324 657 23 56 2\n",
        "# l=[23,45,324,657,23,56,2]\n",
        "l=[int(_) for _ in input(\"Enter in ssv: \").split(' ')]\n",
        "print(sum(l))"
      ]
    },
    {
      "cell_type": "markdown",
      "metadata": {
        "id": "Aq82afj64Lag"
      },
      "source": [
        "### 2. Write a Python Program to find largest element in an array?\n"
      ]
    },
    {
      "cell_type": "code",
      "execution_count": 14,
      "metadata": {
        "colab": {
          "base_uri": "https://localhost:8080/"
        },
        "id": "PPnBfoLq7cdO",
        "outputId": "8c56b904-de04-479c-9175-df26b06faa4f"
      },
      "outputs": [
        {
          "name": "stdout",
          "output_type": "stream",
          "text": [
            "Enter in ssv: 23 45 -324 657 23 56 2\n",
            "657\n"
          ]
        }
      ],
      "source": [
        "# 23 45 -324 657 23 56 2\n",
        "# l=[23,45,-324,657,23,56,2]\n",
        "l=[int(_) for _ in input(\"Enter in ssv: \").split(' ')]\n",
        "print(max(l))"
      ]
    },
    {
      "cell_type": "markdown",
      "metadata": {
        "id": "eUF6KHUy4OiR"
      },
      "source": [
        "### 3. Write a Python Program for array rotation?\n"
      ]
    },
    {
      "cell_type": "code",
      "execution_count": 16,
      "metadata": {
        "colab": {
          "base_uri": "https://localhost:8080/"
        },
        "id": "er-u2lDA9ioz",
        "outputId": "06ee2068-836c-49a4-e093-3bc5c60ffaf7"
      },
      "outputs": [
        {
          "name": "stdout",
          "output_type": "stream",
          "text": [
            "Enter in ssv: 23 45 -324 657 23 56 2\n",
            "[2, 56, 23, 657, -324, 45, 23]\n"
          ]
        }
      ],
      "source": [
        "# 23 45 -324 657 23 56 2 \n",
        "# l=[23,45,-324,657,23,56,2]\n",
        "l=[int(_) for _ in input(\"Enter in ssv: \").split(' ')]\n",
        "l=l[::-1]\n",
        "print(l)"
      ]
    },
    {
      "cell_type": "markdown",
      "metadata": {
        "id": "_x6X_wP44Qct"
      },
      "source": [
        "### 4. Write a Python Program to Split the array and add the first part to the end?\n",
        "\n"
      ]
    },
    {
      "cell_type": "code",
      "execution_count": 17,
      "metadata": {
        "colab": {
          "base_uri": "https://localhost:8080/"
        },
        "id": "W9LOk5Fb-z7_",
        "outputId": "f3298ae0-4774-4e96-eb9b-90a5526e5830"
      },
      "outputs": [
        {
          "name": "stdout",
          "output_type": "stream",
          "text": [
            "Enter in ssv: 23 45 -324 657 23 56 2\n"
          ]
        },
        {
          "data": {
            "text/plain": [
              "[657, 23, 56, 2, 23, 45, -324]"
            ]
          },
          "execution_count": 17,
          "metadata": {},
          "output_type": "execute_result"
        }
      ],
      "source": [
        "#l=[23,45,-324,657,23,56,2]\n",
        "l=[int(_) for _ in input(\"Enter in ssv: \").split(' ')]\n",
        "a,b=l[:len(l)//2],l[len(l)//2:]\n",
        "l=b+a\n",
        "l"
      ]
    },
    {
      "cell_type": "markdown",
      "metadata": {
        "id": "6n784D8t4Tgn"
      },
      "source": [
        "### 5. Write a Python Program to check if given array is Monotonic?\n"
      ]
    },
    {
      "cell_type": "code",
      "execution_count": 18,
      "metadata": {
        "colab": {
          "base_uri": "https://localhost:8080/"
        },
        "id": "MqAQ1sxv_8R9",
        "outputId": "bf6ae4d4-0deb-4d39-e81f-a1ef24a8e93a"
      },
      "outputs": [
        {
          "name": "stdout",
          "output_type": "stream",
          "text": [
            "Enter in ssv: 1 1 2 3 4 5 6 7\n",
            "Array is Monotonic\n"
          ]
        }
      ],
      "source": [
        "l=[int(_) for _ in input(\"Enter in ssv: \").split(' ')]\n",
        "if sorted(l) == l or sorted(l,reverse=True) == l:\n",
        "  print(\"Array is Monotonic\")\n",
        "else:\n",
        "  print(\"Array isn't Monotonic\")"
      ]
    }
  ],
  "metadata": {
    "colab": {
      "authorship_tag": "ABX9TyM60RNArz2Hf2ANNvo9oEmo",
      "collapsed_sections": [],
      "include_colab_link": true,
      "name": "Assignment-03-07.ipynb",
      "provenance": []
    },
    "kernelspec": {
      "display_name": "Python 3",
      "name": "python3"
    },
    "language_info": {
      "name": "python"
    }
  },
  "nbformat": 4,
  "nbformat_minor": 0
}
