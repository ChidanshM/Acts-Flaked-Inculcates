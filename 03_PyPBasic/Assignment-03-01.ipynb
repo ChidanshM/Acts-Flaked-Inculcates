{
  "nbformat": 4,
  "nbformat_minor": 0,
  "metadata": {
    "colab": {
      "name": "Assignment-03-01.ipynb",
      "provenance": [],
      "collapsed_sections": [],
      "authorship_tag": "ABX9TyO8YUAabnxwxofvYp3AJuKj",
      "include_colab_link": true
    },
    "kernelspec": {
      "name": "python3",
      "display_name": "Python 3"
    },
    "language_info": {
      "name": "python"
    }
  },
  "cells": [
    {
      "cell_type": "markdown",
      "metadata": {
        "id": "view-in-github",
        "colab_type": "text"
      },
      "source": [
        "<a href=\"https://colab.research.google.com/github/ChidanshM/Acts-Flaked-Inculcates/blob/main/03_PyPBasic/Assignment-03-01.ipynb\" target=\"_parent\"><img src=\"https://colab.research.google.com/assets/colab-badge.svg\" alt=\"Open In Colab\"/></a>"
      ]
    },
    {
      "cell_type": "markdown",
      "source": [
        "# 03-Python_Programming_Basic_Assignment: \n",
        "## Assignment 01\n"
      ],
      "metadata": {
        "id": "T3IzOhU30thm"
      }
    },
    {
      "cell_type": "markdown",
      "source": [
        "### 1. Write a Python program to print \"Hello Python\"?"
      ],
      "metadata": {
        "id": "bUQn8_UM1CLQ"
      }
    },
    {
      "cell_type": "code",
      "source": [
        "print(\"Hello Python\")"
      ],
      "metadata": {
        "colab": {
          "base_uri": "https://localhost:8080/"
        },
        "id": "58efZqa2Xg2T",
        "outputId": "cc9cc275-e111-42ce-fa53-4ebace6b37ba"
      },
      "execution_count": null,
      "outputs": [
        {
          "output_type": "stream",
          "name": "stdout",
          "text": [
            "Hello Python\n"
          ]
        }
      ]
    },
    {
      "cell_type": "markdown",
      "source": [
        "### 2. Write a Python program to do arithmetical operations addition and division.?"
      ],
      "metadata": {
        "id": "Nd-NPW1lNScB"
      }
    },
    {
      "cell_type": "code",
      "source": [
        "print((2+4)/3)"
      ],
      "metadata": {
        "colab": {
          "base_uri": "https://localhost:8080/"
        },
        "id": "t_In0lnzXsSl",
        "outputId": "3a6e8503-7b43-4d6c-da5d-5c1661112756"
      },
      "execution_count": null,
      "outputs": [
        {
          "output_type": "stream",
          "name": "stdout",
          "text": [
            "2.0\n"
          ]
        }
      ]
    },
    {
      "cell_type": "markdown",
      "source": [
        "### 3. Write a Python program to find the area of a triangle?"
      ],
      "metadata": {
        "id": "7lUnCKeyOXCY"
      }
    },
    {
      "cell_type": "code",
      "source": [
        "b,h=int(input(\"Enter base:\")),int(input(\"Enter height:\"))\n",
        "print(f\"Area of triangle = {b*h*0.5}\")"
      ],
      "metadata": {
        "colab": {
          "base_uri": "https://localhost:8080/"
        },
        "id": "gyi2QqTyX83U",
        "outputId": "41b63e16-fd06-4290-ead0-733ce87a7ad0"
      },
      "execution_count": null,
      "outputs": [
        {
          "output_type": "stream",
          "name": "stdout",
          "text": [
            "Enter base:6\n",
            "Enter height:11\n",
            "Area of triangle = 33.0\n"
          ]
        }
      ]
    },
    {
      "cell_type": "markdown",
      "source": [
        "### 4. Write a Python program to swap two variables?"
      ],
      "metadata": {
        "id": "EpBRvrYYPwio"
      }
    },
    {
      "cell_type": "code",
      "source": [
        "a,b=16,1\n",
        "print(f\"a:{a} , b:{b}\")\n",
        "a,b=b,a\n",
        "print(f\"a:{a} , b:{b}\")"
      ],
      "metadata": {
        "colab": {
          "base_uri": "https://localhost:8080/"
        },
        "id": "doTALcDxYvDw",
        "outputId": "a00560d0-84a9-4394-ee3d-208acd401d47"
      },
      "execution_count": null,
      "outputs": [
        {
          "output_type": "stream",
          "name": "stdout",
          "text": [
            "a:16 , b:1\n",
            "a:1 , b:16\n"
          ]
        }
      ]
    },
    {
      "cell_type": "markdown",
      "source": [
        "### 5. Write a Python program to generate a random number?"
      ],
      "metadata": {
        "id": "1qFz-HLlRD4_"
      }
    },
    {
      "cell_type": "code",
      "source": [
        "from random import randint\n",
        "randint(a,b)"
      ],
      "metadata": {
        "colab": {
          "base_uri": "https://localhost:8080/"
        },
        "id": "9PzLAlBXZPPi",
        "outputId": "fd4da134-aca6-4633-f31d-64cff7e65a74"
      },
      "execution_count": null,
      "outputs": [
        {
          "output_type": "execute_result",
          "data": {
            "text/plain": [
              "10"
            ]
          },
          "metadata": {},
          "execution_count": 5
        }
      ]
    }
  ]
}