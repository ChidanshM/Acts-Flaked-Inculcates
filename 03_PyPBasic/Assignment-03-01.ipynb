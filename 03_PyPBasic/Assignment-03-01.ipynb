{
  "cells": [
    {
      "cell_type": "markdown",
      "metadata": {
        "id": "T3IzOhU30thm"
      },
      "source": [
        "# 03-Python_Programming_Basic_Assignment: \n",
        "## Assignment 01\n"
      ]
    },
    {
      "cell_type": "markdown",
      "metadata": {
        "id": "bUQn8_UM1CLQ"
      },
      "source": [
        "### 1. Write a Python program to print \"Hello Python\"?"
      ]
    },
    {
      "cell_type": "code",
      "execution_count": null,
      "metadata": {
        "colab": {
          "base_uri": "https://localhost:8080/"
        },
        "id": "58efZqa2Xg2T",
        "outputId": "cc9cc275-e111-42ce-fa53-4ebace6b37ba"
      },
      "outputs": [
        {
          "name": "stdout",
          "output_type": "stream",
          "text": [
            "Hello Python\n"
          ]
        }
      ],
      "source": [
        "print(\"Hello Python\")"
      ]
    },
    {
      "cell_type": "markdown",
      "metadata": {
        "id": "Nd-NPW1lNScB"
      },
      "source": [
        "### 2. Write a Python program to do arithmetical operations addition and division.?"
      ]
    },
    {
      "cell_type": "code",
      "execution_count": null,
      "metadata": {
        "colab": {
          "base_uri": "https://localhost:8080/"
        },
        "id": "t_In0lnzXsSl",
        "outputId": "3a6e8503-7b43-4d6c-da5d-5c1661112756"
      },
      "outputs": [
        {
          "name": "stdout",
          "output_type": "stream",
          "text": [
            "2.0\n"
          ]
        }
      ],
      "source": [
        "print((2+4)/3)"
      ]
    },
    {
      "cell_type": "markdown",
      "metadata": {
        "id": "7lUnCKeyOXCY"
      },
      "source": [
        "### 3. Write a Python program to find the area of a triangle?"
      ]
    },
    {
      "cell_type": "code",
      "execution_count": null,
      "metadata": {
        "colab": {
          "base_uri": "https://localhost:8080/"
        },
        "id": "gyi2QqTyX83U",
        "outputId": "41b63e16-fd06-4290-ead0-733ce87a7ad0"
      },
      "outputs": [
        {
          "name": "stdout",
          "output_type": "stream",
          "text": [
            "Enter base:6\n",
            "Enter height:11\n",
            "Area of triangle = 33.0\n"
          ]
        }
      ],
      "source": [
        "b,h=int(input(\"Enter base:\")),int(input(\"Enter height:\"))\n",
        "print(f\"Area of triangle = {b*h*0.5}\")"
      ]
    },
    {
      "cell_type": "markdown",
      "metadata": {
        "id": "EpBRvrYYPwio"
      },
      "source": [
        "### 4. Write a Python program to swap two variables?"
      ]
    },
    {
      "cell_type": "code",
      "execution_count": null,
      "metadata": {
        "colab": {
          "base_uri": "https://localhost:8080/"
        },
        "id": "doTALcDxYvDw",
        "outputId": "a00560d0-84a9-4394-ee3d-208acd401d47"
      },
      "outputs": [
        {
          "name": "stdout",
          "output_type": "stream",
          "text": [
            "a:16 , b:1\n",
            "a:1 , b:16\n"
          ]
        }
      ],
      "source": [
        "a,b=16,1\n",
        "print(f\"a:{a} , b:{b}\")\n",
        "a,b=b,a\n",
        "print(f\"a:{a} , b:{b}\")"
      ]
    },
    {
      "cell_type": "markdown",
      "metadata": {
        "id": "1qFz-HLlRD4_"
      },
      "source": [
        "### 5. Write a Python program to generate a random number?"
      ]
    },
    {
      "cell_type": "code",
      "execution_count": null,
      "metadata": {
        "colab": {
          "base_uri": "https://localhost:8080/"
        },
        "id": "9PzLAlBXZPPi",
        "outputId": "fd4da134-aca6-4633-f31d-64cff7e65a74"
      },
      "outputs": [
        {
          "data": {
            "text/plain": [
              "10"
            ]
          },
          "execution_count": 5,
          "metadata": {},
          "output_type": "execute_result"
        }
      ],
      "source": [
        "from random import randint\n",
        "randint(a,b)"
      ]
    }
  ],
  "metadata": {
    "colab": {
      "authorship_tag": "ABX9TyO8YUAabnxwxofvYp3AJuKj",
      "collapsed_sections": [],
      "include_colab_link": true,
      "name": "Assignment-03-01.ipynb",
      "provenance": []
    },
    "kernelspec": {
      "display_name": "Python 3",
      "name": "python3"
    },
    "language_info": {
      "name": "python",
      "version": "3.9.7"
    }
  },
  "nbformat": 4,
  "nbformat_minor": 0
}
