{
  "cells": [
    {
      "cell_type": "markdown",
      "metadata": {
        "id": "T3IzOhU30thm"
      },
      "source": [
        "# 03-Python_Programming_Basic_Assignment: \n",
        "## Assignment 08"
      ]
    },
    {
      "cell_type": "markdown",
      "metadata": {
        "id": "bUQn8_UM1CLQ"
      },
      "source": [
        "### 1. Write a Python Program to Add Two Matrices?`"
      ]
    },
    {
      "cell_type": "code",
      "execution_count": null,
      "metadata": {
        "colab": {
          "base_uri": "https://localhost:8080/"
        },
        "id": "-M-B0m8j48UV",
        "outputId": "64bb622a-6a85-4707-af6f-826e020d4a56"
      },
      "outputs": [],
      "source": []
    },
    {
      "cell_type": "markdown",
      "metadata": {
        "id": "Aq82afj64Lag"
      },
      "source": [
        "### 2. Write a Python Program to Multiply Two Matrices?"
      ]
    },
    {
      "cell_type": "code",
      "execution_count": null,
      "metadata": {
        "colab": {
          "base_uri": "https://localhost:8080/"
        },
        "id": "PPnBfoLq7cdO",
        "outputId": "8c56b904-de04-479c-9175-df26b06faa4f"
      },
      "outputs": [],
      "source": []
    },
    {
      "cell_type": "markdown",
      "metadata": {
        "id": "eUF6KHUy4OiR"
      },
      "source": [
        "### 3. Write a Python Program to Transpose a Matrix?"
      ]
    },
    {
      "cell_type": "code",
      "execution_count": null,
      "metadata": {
        "colab": {
          "base_uri": "https://localhost:8080/"
        },
        "id": "er-u2lDA9ioz",
        "outputId": "06ee2068-836c-49a4-e093-3bc5c60ffaf7"
      },
      "outputs": [],
      "source": []
    },
    {
      "cell_type": "markdown",
      "metadata": {
        "id": "_x6X_wP44Qct"
      },
      "source": [
        "### 4. Write a Python Program to Sort Words in Alphabetic Order?"
      ]
    },
    {
      "cell_type": "code",
      "execution_count": null,
      "metadata": {
        "colab": {
          "base_uri": "https://localhost:8080/"
        },
        "id": "W9LOk5Fb-z7_",
        "outputId": "f3298ae0-4774-4e96-eb9b-90a5526e5830"
      },
      "outputs": [],
      "source": []
    },
    {
      "cell_type": "markdown",
      "metadata": {
        "id": "6n784D8t4Tgn"
      },
      "source": [
        "### 5. Write a Python Program to Remove Punctuation From a String?"
      ]
    },
    {
      "cell_type": "code",
      "execution_count": null,
      "metadata": {
        "colab": {
          "base_uri": "https://localhost:8080/"
        },
        "id": "MqAQ1sxv_8R9",
        "outputId": "bf6ae4d4-0deb-4d39-e81f-a1ef24a8e93a"
      },
      "outputs": [],
      "source": [
        "from re import sub\n",
        "print('After filtering out punctuation:',sub(r'([^\\w\\s]|_)','',input('ENter str')))"
      ]
    }
  ],
  "metadata": {
    "colab": {
      "authorship_tag": "ABX9TyM60RNArz2Hf2ANNvo9oEmo",
      "collapsed_sections": [],
      "include_colab_link": true,
      "name": "Assignment-03-07.ipynb",
      "provenance": []
    },
    "kernelspec": {
      "display_name": "Python 3",
      "name": "python3"
    },
    "language_info": {
      "name": "python"
    }
  },
  "nbformat": 4,
  "nbformat_minor": 0
}
