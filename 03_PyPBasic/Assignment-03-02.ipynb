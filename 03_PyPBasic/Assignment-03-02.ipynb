{
  "nbformat": 4,
  "nbformat_minor": 0,
  "metadata": {
    "colab": {
      "name": "Assignment-03-02.ipynb",
      "provenance": [],
      "collapsed_sections": [],
      "authorship_tag": "ABX9TyOH8yTd3Kr66WLVY6esd3iN",
      "include_colab_link": true
    },
    "kernelspec": {
      "name": "python3",
      "display_name": "Python 3"
    },
    "language_info": {
      "name": "python"
    }
  },
  "cells": [
    {
      "cell_type": "markdown",
      "metadata": {
        "id": "view-in-github",
        "colab_type": "text"
      },
      "source": [
        "<a href=\"https://colab.research.google.com/github/ChidanshM/FSDS/blob/main/03_PythonPBasicAssignment/Assignment-03-02.ipynb\" target=\"_parent\"><img src=\"https://colab.research.google.com/assets/colab-badge.svg\" alt=\"Open In Colab\"/></a>"
      ]
    },
    {
      "cell_type": "markdown",
      "source": [
        "# 03-Python_Programming_Basic_Assignment: \n",
        "## Assignment 02\n"
      ],
      "metadata": {
        "id": "T3IzOhU30thm"
      }
    },
    {
      "cell_type": "markdown",
      "source": [
        "### 1. Write a Python program to convert kilometers to miles?"
      ],
      "metadata": {
        "id": "bUQn8_UM1CLQ"
      }
    },
    {
      "cell_type": "code",
      "source": [
        "print(f'Distance in miles ={float(input(\"Enter distance in kilometer:\"))*0.621371:.2f}')"
      ],
      "metadata": {
        "colab": {
          "base_uri": "https://localhost:8080/"
        },
        "id": "58efZqa2Xg2T",
        "outputId": "f9ebc6b0-da65-4fdf-d138-76108573cb7c"
      },
      "execution_count": null,
      "outputs": [
        {
          "output_type": "stream",
          "name": "stdout",
          "text": [
            "Enter distance in kilometer:12.3\n",
            "Distance in miles =7.64\n"
          ]
        }
      ]
    },
    {
      "cell_type": "markdown",
      "source": [
        "### 2. Write a Python program to convert Celsius to Fahrenheit?"
      ],
      "metadata": {
        "id": "Nd-NPW1lNScB"
      }
    },
    {
      "cell_type": "code",
      "source": [
        "print(f'Temprature in  fahrenheit={float(input(\"Enter temprature in  Celsius:\"))*1.8+32}')"
      ],
      "metadata": {
        "colab": {
          "base_uri": "https://localhost:8080/"
        },
        "id": "t_In0lnzXsSl",
        "outputId": "6acef742-bf17-44e5-9ccf-a0b4c2f52350"
      },
      "execution_count": null,
      "outputs": [
        {
          "output_type": "stream",
          "name": "stdout",
          "text": [
            "Enter temprature in  Celsius:23\n",
            "Temprature in  fahrenheit=73.4\n"
          ]
        }
      ]
    },
    {
      "cell_type": "markdown",
      "source": [
        "### 3. Write a Python program to display calendar?\n"
      ],
      "metadata": {
        "id": "7lUnCKeyOXCY"
      }
    },
    {
      "cell_type": "code",
      "source": [
        "from calendar import calendar\n",
        "print(calendar(2022))"
      ],
      "metadata": {
        "colab": {
          "base_uri": "https://localhost:8080/"
        },
        "id": "gyi2QqTyX83U",
        "outputId": "2d71d44e-3751-4e65-eb5f-0d8de7eecdda"
      },
      "execution_count": null,
      "outputs": [
        {
          "output_type": "stream",
          "name": "stdout",
          "text": [
            "                                  2022\n",
            "\n",
            "      January                   February                   March\n",
            "Mo Tu We Th Fr Sa Su      Mo Tu We Th Fr Sa Su      Mo Tu We Th Fr Sa Su\n",
            "                1  2          1  2  3  4  5  6          1  2  3  4  5  6\n",
            " 3  4  5  6  7  8  9       7  8  9 10 11 12 13       7  8  9 10 11 12 13\n",
            "10 11 12 13 14 15 16      14 15 16 17 18 19 20      14 15 16 17 18 19 20\n",
            "17 18 19 20 21 22 23      21 22 23 24 25 26 27      21 22 23 24 25 26 27\n",
            "24 25 26 27 28 29 30      28                        28 29 30 31\n",
            "31\n",
            "\n",
            "       April                      May                       June\n",
            "Mo Tu We Th Fr Sa Su      Mo Tu We Th Fr Sa Su      Mo Tu We Th Fr Sa Su\n",
            "             1  2  3                         1             1  2  3  4  5\n",
            " 4  5  6  7  8  9 10       2  3  4  5  6  7  8       6  7  8  9 10 11 12\n",
            "11 12 13 14 15 16 17       9 10 11 12 13 14 15      13 14 15 16 17 18 19\n",
            "18 19 20 21 22 23 24      16 17 18 19 20 21 22      20 21 22 23 24 25 26\n",
            "25 26 27 28 29 30         23 24 25 26 27 28 29      27 28 29 30\n",
            "                          30 31\n",
            "\n",
            "        July                     August                  September\n",
            "Mo Tu We Th Fr Sa Su      Mo Tu We Th Fr Sa Su      Mo Tu We Th Fr Sa Su\n",
            "             1  2  3       1  2  3  4  5  6  7                1  2  3  4\n",
            " 4  5  6  7  8  9 10       8  9 10 11 12 13 14       5  6  7  8  9 10 11\n",
            "11 12 13 14 15 16 17      15 16 17 18 19 20 21      12 13 14 15 16 17 18\n",
            "18 19 20 21 22 23 24      22 23 24 25 26 27 28      19 20 21 22 23 24 25\n",
            "25 26 27 28 29 30 31      29 30 31                  26 27 28 29 30\n",
            "\n",
            "      October                   November                  December\n",
            "Mo Tu We Th Fr Sa Su      Mo Tu We Th Fr Sa Su      Mo Tu We Th Fr Sa Su\n",
            "                1  2          1  2  3  4  5  6                1  2  3  4\n",
            " 3  4  5  6  7  8  9       7  8  9 10 11 12 13       5  6  7  8  9 10 11\n",
            "10 11 12 13 14 15 16      14 15 16 17 18 19 20      12 13 14 15 16 17 18\n",
            "17 18 19 20 21 22 23      21 22 23 24 25 26 27      19 20 21 22 23 24 25\n",
            "24 25 26 27 28 29 30      28 29 30                  26 27 28 29 30 31\n",
            "31\n",
            "\n"
          ]
        }
      ]
    },
    {
      "cell_type": "markdown",
      "source": [
        "### 4. Write a Python program to solve quadratic equation?"
      ],
      "metadata": {
        "id": "EpBRvrYYPwio"
      }
    },
    {
      "cell_type": "code",
      "source": [
        "from cmath import sqrt\n",
        "#a,b,c=int(input(\"ENter a:\")),int(input(\"ENter b:\")),int(input(\"ENter c:\"))\n",
        "a,b,c=1,-3,2\n",
        "sdd2a,bd2a=sqrt((b**2)-(4*a*c))/(2*a),-b/(2*a)\n",
        "print(f\"Soulutions are {bd2a+sdd2a} and {bd2a-sdd2a}\")\n"
      ],
      "metadata": {
        "colab": {
          "base_uri": "https://localhost:8080/"
        },
        "id": "doTALcDxYvDw",
        "outputId": "3080c9ba-7454-4216-bd96-7f62db812f36"
      },
      "execution_count": null,
      "outputs": [
        {
          "output_type": "stream",
          "name": "stdout",
          "text": [
            "Soulutions are (2+0j) and (1+0j)\n"
          ]
        }
      ]
    },
    {
      "cell_type": "markdown",
      "source": [
        "### 5. Write a Python program to swap two variables without temp variable?"
      ],
      "metadata": {
        "id": "1qFz-HLlRD4_"
      }
    },
    {
      "cell_type": "code",
      "source": [
        "a,b=16,1\n",
        "print(f\"a:{a} , b:{b}\")\n",
        "a,b=b,a\n",
        "print(f\"a:{a} , b:{b}\")"
      ],
      "metadata": {
        "colab": {
          "base_uri": "https://localhost:8080/"
        },
        "id": "9PzLAlBXZPPi",
        "outputId": "4ad3913b-e2de-4f90-d34c-ab3adcc201c5"
      },
      "execution_count": null,
      "outputs": [
        {
          "output_type": "stream",
          "name": "stdout",
          "text": [
            "a:16 , b:1\n",
            "a:1 , b:16\n"
          ]
        }
      ]
    }
  ]
}
