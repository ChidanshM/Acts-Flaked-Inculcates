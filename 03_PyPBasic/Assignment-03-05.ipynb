{
  "cells": [
    {
      "cell_type": "markdown",
      "metadata": {
        "id": "T3IzOhU30thm"
      },
      "source": [
        "# 03-Python_Programming_Basic_Assignment: \n",
        "## Assignment 05"
      ]
    },
    {
      "cell_type": "markdown",
      "metadata": {
        "id": "bUQn8_UM1CLQ"
      },
      "source": [
        "### 1. Write a Python Program to Find LCM?"
      ]
    },
    {
      "cell_type": "code",
      "execution_count": null,
      "metadata": {
        "colab": {
          "base_uri": "https://localhost:8080/"
        },
        "id": "58efZqa2Xg2T",
        "outputId": "ef96efc8-2c55-4b7f-d82c-877f1bd6f485"
      },
      "outputs": [
        {
          "name": "stdout",
          "output_type": "stream",
          "text": [
            "Enter 2 numbers ssv:34 14\n",
            "238\n"
          ]
        }
      ],
      "source": [
        "def gcd(a, b):\n",
        "    if a == 0 :\n",
        "        return b\n",
        "    return gcd(b%a, a)\n",
        "a,b=(int(_) for _ in input(\"Enter 2 numbers ssv:\").split(' '))\n",
        "print((a*b)//gcd(a,b))"
      ]
    },
    {
      "cell_type": "code",
      "execution_count": null,
      "metadata": {
        "colab": {
          "base_uri": "https://localhost:8080/"
        },
        "id": "1A4GWjUqysnJ",
        "outputId": "5835f9dd-295a-408e-f8f2-7d6f00c9f22a"
      },
      "outputs": [
        {
          "name": "stdout",
          "output_type": "stream",
          "text": [
            "Enter 2 numbers ssv:34 14\n",
            "238\n"
          ]
        }
      ],
      "source": [
        "from math import gcd\n",
        "\"\"\" works in 3.9\n",
        "l=[int(_) for _ in input(\"Enter numbers ssv:\").split(' ')]\n",
        "p=1\n",
        "for _ in l:\n",
        "  p=p*_\n",
        "print(p//gcd(l))\"\"\"\n",
        "a,b=(int(_) for _ in input(\"Enter 2 numbers ssv:\").split(' '))\n",
        "print((a*b)//gcd(a,b))"
      ]
    },
    {
      "cell_type": "markdown",
      "metadata": {
        "id": "Nd-NPW1lNScB"
      },
      "source": [
        "### 2. Write a Python Program to Find HCF?"
      ]
    },
    {
      "cell_type": "code",
      "execution_count": null,
      "metadata": {
        "colab": {
          "base_uri": "https://localhost:8080/"
        },
        "id": "8waSWTqIxUiL",
        "outputId": "fc4af935-ce96-4638-b9a7-20f6f4c518c4"
      },
      "outputs": [
        {
          "name": "stdout",
          "output_type": "stream",
          "text": [
            "Enter 2 numbers ssv:34 14\n",
            "2\n"
          ]
        }
      ],
      "source": [
        "def gcd(a, b):\n",
        "    if a == 0 :\n",
        "        return b\n",
        "    return gcd(b%a, a)\n",
        "a,b=(int(_) for _ in input(\"Enter 2 numbers ssv:\").split(' '))\n",
        "print(gcd(a,b))"
      ]
    },
    {
      "cell_type": "code",
      "execution_count": null,
      "metadata": {
        "colab": {
          "base_uri": "https://localhost:8080/"
        },
        "id": "t_In0lnzXsSl",
        "outputId": "11d616c8-192e-46ee-fb4e-e887e80788ed"
      },
      "outputs": [
        {
          "name": "stdout",
          "output_type": "stream",
          "text": [
            "Enter 2 numbers ssv:34 14\n",
            "2\n"
          ]
        }
      ],
      "source": [
        "from math import gcd\n",
        "\"\"\" works in 3.9\n",
        "l=[int(_) for _ in input(\"Enter numbers ssv:\").split(' ')]\n",
        "print(gcd(l))\"\"\"\n",
        "a,b=(int(_) for _ in input(\"Enter 2 numbers ssv:\").split(' '))\n",
        "print(gcd(a,b))"
      ]
    },
    {
      "cell_type": "markdown",
      "metadata": {
        "id": "7lUnCKeyOXCY"
      },
      "source": [
        "### 3. Write a Python Program to Convert Decimal to Binary, Octal and Hexadecimal?"
      ]
    },
    {
      "cell_type": "code",
      "execution_count": null,
      "metadata": {
        "colab": {
          "base_uri": "https://localhost:8080/"
        },
        "id": "gyi2QqTyX83U",
        "outputId": "b9ee7867-0ec3-4dd6-99f6-d5d4e83d7eab"
      },
      "outputs": [
        {
          "name": "stdout",
          "output_type": "stream",
          "text": [
            "Enter:34\n",
            "Binary: 0b100010 \n",
            "Octal: 0o42 \n",
            "Hexadecimal: 0x22\n"
          ]
        }
      ],
      "source": [
        "n=int(input(\"Enter:\"))\n",
        "print(f\"Binary: {bin(n)} \\nOctal: {oct(n)} \\nHexadecimal: {hex(n)}\")"
      ]
    },
    {
      "cell_type": "markdown",
      "metadata": {
        "id": "EpBRvrYYPwio"
      },
      "source": [
        "### 4. Write a Python Program To Find ASCII value of a character?"
      ]
    },
    {
      "cell_type": "code",
      "execution_count": null,
      "metadata": {
        "colab": {
          "base_uri": "https://localhost:8080/"
        },
        "id": "doTALcDxYvDw",
        "outputId": "93681886-a588-430b-dcdd-6b15905c4136"
      },
      "outputs": [
        {
          "name": "stdout",
          "output_type": "stream",
          "text": [
            "3\n",
            "ASCII Value: 51\n"
          ]
        }
      ],
      "source": [
        "print(f\"ASCII Value: {ord(input()[:1])}\")"
      ]
    },
    {
      "cell_type": "markdown",
      "metadata": {
        "id": "1qFz-HLlRD4_"
      },
      "source": [
        "### 5. Write a Python Program to Make a Simple Calculator with 4 basic mathematical operations?"
      ]
    },
    {
      "cell_type": "code",
      "execution_count": null,
      "metadata": {
        "colab": {
          "base_uri": "https://localhost:8080/"
        },
        "id": "9PzLAlBXZPPi",
        "outputId": "60e3e482-0288-4577-dde9-a88399152ce1"
      },
      "outputs": [
        {
          "name": "stdout",
          "output_type": "stream",
          "text": [
            "Enter equation ssv:34 / 14\n",
            "Ans: 2.4285714285714284\n"
          ]
        }
      ],
      "source": [
        "eq=list(input(\"Enter equation ssv:\").split(' '))\n",
        "if eq[1] == '+':\n",
        "  print(f'Ans: {int(eq[0])+int(eq[2])}')\n",
        "elif eq[1] == '-':\n",
        "  print(f'Ans: {int(eq[0])-int(eq[2])}')\n",
        "elif eq[1] == '*':\n",
        "  print(f'Ans: {int(eq[0])*int(eq[2])}')\n",
        "elif eq[1] == '/':\n",
        "  print(f'Ans: {int(eq[0])/int(eq[2])}')"
      ]
    }
  ],
  "metadata": {
    "colab": {
      "authorship_tag": "ABX9TyPld7lJqnSg3XRGat2Ei1vb",
      "collapsed_sections": [],
      "include_colab_link": true,
      "name": "Assignment-03-05.ipynb",
      "provenance": []
    },
    "kernelspec": {
      "display_name": "Python 3",
      "name": "python3"
    },
    "language_info": {
      "name": "python"
    }
  },
  "nbformat": 4,
  "nbformat_minor": 0
}
