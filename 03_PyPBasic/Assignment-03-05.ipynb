{
  "nbformat": 4,
  "nbformat_minor": 0,
  "metadata": {
    "colab": {
      "name": "Assignment-03-05.ipynb",
      "provenance": [],
      "collapsed_sections": [],
      "authorship_tag": "ABX9TyPld7lJqnSg3XRGat2Ei1vb",
      "include_colab_link": true
    },
    "kernelspec": {
      "name": "python3",
      "display_name": "Python 3"
    },
    "language_info": {
      "name": "python"
    }
  },
  "cells": [
    {
      "cell_type": "markdown",
      "metadata": {
        "id": "view-in-github",
        "colab_type": "text"
      },
      "source": [
        "<a href=\"https://colab.research.google.com/github/ChidanshM/FSDS/blob/main/03_PyPBasic/Assignment-03-05.ipynb\" target=\"_parent\"><img src=\"https://colab.research.google.com/assets/colab-badge.svg\" alt=\"Open In Colab\"/></a>"
      ]
    },
    {
      "cell_type": "markdown",
      "source": [
        "# 03-Python_Programming_Basic_Assignment: \n",
        "## Assignment 05"
      ],
      "metadata": {
        "id": "T3IzOhU30thm"
      }
    },
    {
      "cell_type": "markdown",
      "source": [
        "### 1. Write a Python Program to Find LCM?"
      ],
      "metadata": {
        "id": "bUQn8_UM1CLQ"
      }
    },
    {
      "cell_type": "code",
      "source": [
        "def gcd(a, b):\n",
        "    if a == 0 :\n",
        "        return b\n",
        "    return gcd(b%a, a)\n",
        "a,b=(int(_) for _ in input(\"Enter 2 numbers ssv:\").split(' '))\n",
        "print((a*b)//gcd(a,b))"
      ],
      "metadata": {
        "id": "58efZqa2Xg2T",
        "colab": {
          "base_uri": "https://localhost:8080/"
        },
        "outputId": "ef96efc8-2c55-4b7f-d82c-877f1bd6f485"
      },
      "execution_count": null,
      "outputs": [
        {
          "output_type": "stream",
          "name": "stdout",
          "text": [
            "Enter 2 numbers ssv:34 14\n",
            "238\n"
          ]
        }
      ]
    },
    {
      "cell_type": "code",
      "source": [
        "from math import gcd\n",
        "\"\"\" works in 3.9\n",
        "l=[int(_) for _ in input(\"Enter numbers ssv:\").split(' ')]\n",
        "p=1\n",
        "for _ in l:\n",
        "  p=p*_\n",
        "print(p//gcd(l))\"\"\"\n",
        "a,b=(int(_) for _ in input(\"Enter 2 numbers ssv:\").split(' '))\n",
        "print((a*b)//gcd(a,b))"
      ],
      "metadata": {
        "colab": {
          "base_uri": "https://localhost:8080/"
        },
        "id": "1A4GWjUqysnJ",
        "outputId": "5835f9dd-295a-408e-f8f2-7d6f00c9f22a"
      },
      "execution_count": null,
      "outputs": [
        {
          "output_type": "stream",
          "name": "stdout",
          "text": [
            "Enter 2 numbers ssv:34 14\n",
            "238\n"
          ]
        }
      ]
    },
    {
      "cell_type": "markdown",
      "source": [
        "### 2. Write a Python Program to Find HCF?"
      ],
      "metadata": {
        "id": "Nd-NPW1lNScB"
      }
    },
    {
      "cell_type": "code",
      "source": [
        "def gcd(a, b):\n",
        "    if a == 0 :\n",
        "        return b\n",
        "    return gcd(b%a, a)\n",
        "a,b=(int(_) for _ in input(\"Enter 2 numbers ssv:\").split(' '))\n",
        "print(gcd(a,b))"
      ],
      "metadata": {
        "colab": {
          "base_uri": "https://localhost:8080/"
        },
        "id": "8waSWTqIxUiL",
        "outputId": "fc4af935-ce96-4638-b9a7-20f6f4c518c4"
      },
      "execution_count": null,
      "outputs": [
        {
          "output_type": "stream",
          "name": "stdout",
          "text": [
            "Enter 2 numbers ssv:34 14\n",
            "2\n"
          ]
        }
      ]
    },
    {
      "cell_type": "code",
      "source": [
        "from math import gcd\n",
        "\"\"\" works in 3.9\n",
        "l=[int(_) for _ in input(\"Enter numbers ssv:\").split(' ')]\n",
        "print(gcd(l))\"\"\"\n",
        "a,b=(int(_) for _ in input(\"Enter 2 numbers ssv:\").split(' '))\n",
        "print(gcd(a,b))"
      ],
      "metadata": {
        "id": "t_In0lnzXsSl",
        "colab": {
          "base_uri": "https://localhost:8080/"
        },
        "outputId": "11d616c8-192e-46ee-fb4e-e887e80788ed"
      },
      "execution_count": null,
      "outputs": [
        {
          "output_type": "stream",
          "name": "stdout",
          "text": [
            "Enter 2 numbers ssv:34 14\n",
            "2\n"
          ]
        }
      ]
    },
    {
      "cell_type": "markdown",
      "source": [
        "### 3. Write a Python Program to Convert Decimal to Binary, Octal and Hexadecimal?"
      ],
      "metadata": {
        "id": "7lUnCKeyOXCY"
      }
    },
    {
      "cell_type": "code",
      "source": [
        "n=int(input(\"Enter:\"))\n",
        "print(f\"Binary: {bin(n)} \\nOctal: {oct(n)} \\nHexadecimal: {hex(n)}\")"
      ],
      "metadata": {
        "id": "gyi2QqTyX83U",
        "colab": {
          "base_uri": "https://localhost:8080/"
        },
        "outputId": "b9ee7867-0ec3-4dd6-99f6-d5d4e83d7eab"
      },
      "execution_count": null,
      "outputs": [
        {
          "output_type": "stream",
          "name": "stdout",
          "text": [
            "Enter:34\n",
            "Binary: 0b100010 \n",
            "Octal: 0o42 \n",
            "Hexadecimal: 0x22\n"
          ]
        }
      ]
    },
    {
      "cell_type": "markdown",
      "source": [
        "### 4. Write a Python Program To Find ASCII value of a character?"
      ],
      "metadata": {
        "id": "EpBRvrYYPwio"
      }
    },
    {
      "cell_type": "code",
      "source": [
        "print(f\"ASCII Value: {ord(input()[:1])}\")"
      ],
      "metadata": {
        "id": "doTALcDxYvDw",
        "colab": {
          "base_uri": "https://localhost:8080/"
        },
        "outputId": "93681886-a588-430b-dcdd-6b15905c4136"
      },
      "execution_count": null,
      "outputs": [
        {
          "output_type": "stream",
          "name": "stdout",
          "text": [
            "3\n",
            "ASCII Value: 51\n"
          ]
        }
      ]
    },
    {
      "cell_type": "markdown",
      "source": [
        "### 5. Write a Python Program to Make a Simple Calculator with 4 basic mathematical operations?"
      ],
      "metadata": {
        "id": "1qFz-HLlRD4_"
      }
    },
    {
      "cell_type": "code",
      "source": [
        "eq=list(input(\"Enter equation ssv:\").split(' '))\n",
        "if eq[1] == '+':\n",
        "  print(f'Ans: {int(eq[0])+int(eq[2])}')\n",
        "elif eq[1] == '-':\n",
        "  print(f'Ans: {int(eq[0])-int(eq[2])}')\n",
        "elif eq[1] == '*':\n",
        "  print(f'Ans: {int(eq[0])*int(eq[2])}')\n",
        "elif eq[1] == '/':\n",
        "  print(f'Ans: {int(eq[0])/int(eq[2])}')"
      ],
      "metadata": {
        "id": "9PzLAlBXZPPi",
        "colab": {
          "base_uri": "https://localhost:8080/"
        },
        "outputId": "60e3e482-0288-4577-dde9-a88399152ce1"
      },
      "execution_count": null,
      "outputs": [
        {
          "output_type": "stream",
          "name": "stdout",
          "text": [
            "Enter equation ssv:34 / 14\n",
            "Ans: 2.4285714285714284\n"
          ]
        }
      ]
    }
  ]
}