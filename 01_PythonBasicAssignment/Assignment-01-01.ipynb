{
  "nbformat": 4,
  "nbformat_minor": 0,
  "metadata": {
    "colab": {
      "name": "Assignment-01-01.ipynb",
      "provenance": [],
      "collapsed_sections": [],
      "authorship_tag": "ABX9TyNZTeH/q4rylcoPNOed14Mo"
    },
    "kernelspec": {
      "name": "python3",
      "display_name": "Python 3"
    },
    "language_info": {
      "name": "python"
    }
  },
  "cells": [
    {
      "cell_type": "markdown",
      "source": [
        "# 01-Python_Basic_Assignment:\n",
        "## Assignment 01\n"
      ],
      "metadata": {
        "id": "T3IzOhU30thm"
      }
    },
    {
      "cell_type": "markdown",
      "source": [
        "### 1. In the below elements which of them are values or an expression? eg:- values can be integer or string and expressions will be mathematical operators.\n",
        "\n",
        "```\n",
        "*\n",
        "'hello'\n",
        "-87.8\n",
        "- \n",
        "/ \n",
        "+\n",
        "6 \n",
        "```\n",
        "values:`'hello'` , `-87.8` , `6`\n",
        "\n",
        "expression: `*` , `-` , `/` , `+`"
      ],
      "metadata": {
        "id": "bUQn8_UM1CLQ"
      }
    },
    {
      "cell_type": "markdown",
      "source": [
        "### 2. What is the difference between string and variable?\n",
        "String is a sequence of character, it is a value.\n",
        "\n",
        "Whereas variable is used for storing values."
      ],
      "metadata": {
        "id": "Nd-NPW1lNScB"
      }
    },
    {
      "cell_type": "markdown",
      "source": [
        "### 3. Describe three different data types.\n",
        "* Stirng: sequence of characters\n",
        "* List: sequence of items, it is ordered, mutuable.\n",
        "* Set: collection of unique items, it is unordered, mutable"
      ],
      "metadata": {
        "id": "7lUnCKeyOXCY"
      }
    },
    {
      "cell_type": "markdown",
      "source": [
        "### 4. What is an expression made up of? What do all expressions do?\n",
        "Expression is made up of operators and operands. Expression are evaluated to result into a value/s, so all expressions represent a value."
      ],
      "metadata": {
        "id": "EpBRvrYYPwio"
      }
    },
    {
      "cell_type": "markdown",
      "source": [
        "### 5. This assignment statements, like spam = 10. What is the difference between an expression and a statement?\n",
        "Exppression results into a value. Whereas statement are instructions that the interpreter executes"
      ],
      "metadata": {
        "id": "1qFz-HLlRD4_"
      }
    },
    {
      "cell_type": "markdown",
      "source": [
        "### 6. After running the following code, what does the variable bacon contain?\n",
        "```\n",
        "bacon = 22\n",
        "bacon + 1\n",
        "```\n",
        "22"
      ],
      "metadata": {
        "id": "H1oHZwB08iIh"
      }
    },
    {
      "cell_type": "markdown",
      "source": [
        "### 7. What should the values of the following two terms be?\n",
        "```\n",
        "'spam' + 'spamspam'\n",
        "'spam' * 3\n",
        "```\n",
        "both will result to `spamspamspam`"
      ],
      "metadata": {
        "id": "WqHtXyX-71OL"
      }
    },
    {
      "cell_type": "markdown",
      "source": [
        "### 8. Why is eggs a valid variable name while 100 is invalid?\n",
        "In python variable name must start with a letter or an underscore '_'."
      ],
      "metadata": {
        "id": "PssR3Enh7OdB"
      }
    },
    {
      "cell_type": "markdown",
      "source": [
        "### 9. What three functions can be used to get the integer, floating-point number, or string version of a value?\n",
        "`int()`, `float()` , and `str()` \n"
      ],
      "metadata": {
        "id": "zFxuRdCET5WG"
      }
    },
    {
      "cell_type": "markdown",
      "source": [
        "### 10. Why does this expression cause an error? How can you fix it?\n",
        "`'I have eaten ' + 99 + ' burritos.'`\n",
        "\n",
        "Adding a string to another string results into concatenation. The error is caused by the value 99 in the expression, as an int can't be concatenated to a string using '+' operator. To fix this, typecast 99 to string `str(99)`"
      ],
      "metadata": {
        "id": "j0_HtO_G5mY7"
      }
    }
  ]
}
