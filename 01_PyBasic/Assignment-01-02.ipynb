{
  "cells": [
    {
      "cell_type": "markdown",
      "metadata": {
        "id": "T3IzOhU30thm"
      },
      "source": [
        "# 01-Python_Basic_Assignment:\n",
        "## Assignment 02"
      ]
    },
    {
      "cell_type": "markdown",
      "metadata": {
        "id": "bUQn8_UM1CLQ"
      },
      "source": [
        "### 1.What are the two values of the Boolean data type? How do you write them?\n",
        "\n",
        "> ```py\n",
        "True\n",
        "False\n",
        "```"
      ]
    },
    {
      "cell_type": "markdown",
      "metadata": {
        "id": "Nd-NPW1lNScB"
      },
      "source": [
        "### 2. What are the three different types of Boolean operators?\n",
        "\n",
        "`and` , `or` and `not`"
      ]
    },
    {
      "cell_type": "markdown",
      "metadata": {
        "id": "7lUnCKeyOXCY"
      },
      "source": [
        "### 3. Make a list of each Boolean operator's truth tables (i.e. every possible combination of Boolean values for the operator and what it evaluate ).\n",
        "* `and`\n",
        "\n",
        "|A|B|A and B|\n",
        "  |--|--|--|\n",
        "  |True|True|True|\n",
        "  |False|True|False|\n",
        "  |True|False|False|\n",
        "  |False|False|False|\n",
        "\n",
        "* `or`\n",
        "\n",
        "|A|B|A or B|\n",
        "  |--|--|--|\n",
        "  |True|True|True|\n",
        "  |False|True|True|\n",
        "  |True|False|True|\n",
        "  |False|False|False|\n",
        "  \n",
        "* `not`\n",
        "\n",
        "| A\t| not A |\n",
        "  | --|--|\n",
        "  |True\t| False |\n",
        "  |False | True |\n"
      ]
    },
    {
      "cell_type": "markdown",
      "metadata": {
        "id": "EpBRvrYYPwio"
      },
      "source": [
        "### 4. What are the values of the following expressions?\n",
        "exp|ans|\n",
        "--|--|\n",
        "`(5 > 4) and (3 == 5)`|`False`\n",
        "`not (5 > 4)`|`False`|\n",
        "`(5 > 4) or (3 == 5)`|`True`\n",
        "`not ((5 > 4) or (3 == 5))`|`False`\n",
        "`(True and True) and (True == False)`|`False`\n",
        "`(not False) or (not True)`|`True`"
      ]
    },
    {
      "cell_type": "markdown",
      "metadata": {
        "id": "1qFz-HLlRD4_"
      },
      "source": [
        "### 5. What are the six comparison operators?\n",
        "`<`, `>`, `==`, `<=`, `>=` and `!=` "
      ]
    },
    {
      "cell_type": "markdown",
      "metadata": {
        "id": "d5t9mLovRys_"
      },
      "source": [
        "### 6. How do you tell the difference between the equal to and assignment operators?Describe a condition and when you would use one. \n",
        "\n",
        "* equal to operator `==` is used for comparing whether two operands are same or not.\n",
        "\n",
        "* assignment operator `=` is used to assign the value on the right to the variable on the left\n",
        "\n"
      ]
    },
    {
      "cell_type": "markdown",
      "metadata": {
        "id": "uHpZSz1ddgfw"
      },
      "source": [
        "### 7. Identify the three blocks in this code:\n",
        "```py\n",
        "spam = 0\n",
        "if spam == 10:\n",
        "print('eggs')\n",
        "if spam > 5:\n",
        "print('bacon')\n",
        "else:\n",
        "print('ham')\n",
        "print('spam')\n",
        "print('spam')\n",
        "```\n",
        "\n",
        "Three blocks are:\n",
        "```py\n",
        "if spam == 10:\n",
        "  print('eggs')\n",
        "``` \n",
        "```py\n",
        "if spam > 5:\n",
        "  print('bacon')\n",
        "```\n",
        "```py\n",
        "else:\n",
        "  print('ham')\n",
        "```\n"
      ]
    },
    {
      "cell_type": "markdown",
      "metadata": {
        "id": "Q15hwr7FdyiC"
      },
      "source": [
        "### 8. Write code that prints Hello if 1 is stored in spam, prints Howdy if 2 is stored in spam, and prints Greetings! if anything else is stored in spam."
      ]
    },
    {
      "cell_type": "code",
      "execution_count": null,
      "metadata": {
        "colab": {
          "base_uri": "https://localhost:8080/"
        },
        "id": "6omXL6digOcT",
        "outputId": "a3bf94c3-64e3-4677-ec5a-36a54677c596"
      },
      "outputs": [
        {
          "name": "stdout",
          "output_type": "stream",
          "text": [
            "0\n",
            "Greetings!\n"
          ]
        }
      ],
      "source": [
        "spam=int(input())\n",
        "if spam == 1:\n",
        "  print(\"Hello\")\n",
        "elif spam == 2:\n",
        "  print(\"Howdy\")\n",
        "else:\n",
        "  print(\"Greetings!\")"
      ]
    },
    {
      "cell_type": "markdown",
      "metadata": {
        "id": "5Kbu_2aWd7Qm"
      },
      "source": [
        "### 9. If your programme is stuck in an endless loop, what keys you’ll press?\n",
        "\n",
        "Ctrl + C"
      ]
    },
    {
      "cell_type": "markdown",
      "metadata": {
        "id": "iuexKucUd-_z"
      },
      "source": [
        "### 10. How can you tell the difference between break and continue?\n",
        "When break keyword is encountered, it will exit the loop. While in case of continue keyword, the current iteration that is running will be stopped, and it will proceed with the next iteration."
      ]
    },
    {
      "cell_type": "markdown",
      "metadata": {
        "id": "QzpdZAOGeDpM"
      },
      "source": [
        "### 11. In a for loop, what is the difference between range(10), range(0, 10), and range(0, 10, 1)?\n",
        "\n",
        "* In `range(10)` only stop is defined.\n",
        "* In `range(0,10)` start and stop are defined.\n",
        "* In `range(0,10,1)` start, stop and step all are defined."
      ]
    },
    {
      "cell_type": "markdown",
      "metadata": {
        "id": "cKGFv29FeG4l"
      },
      "source": [
        "### 12. Write a short program that prints the numbers 1 to 10 using a for loop. Then write an equivalent program that prints the numbers 1 to 10 using a while loop.\n"
      ]
    },
    {
      "cell_type": "code",
      "execution_count": null,
      "metadata": {
        "colab": {
          "base_uri": "https://localhost:8080/"
        },
        "id": "XWZa9RfAmjYb",
        "outputId": "c34b834e-4786-4715-ffa4-48d21fa540ac"
      },
      "outputs": [
        {
          "name": "stdout",
          "output_type": "stream",
          "text": [
            "1\n",
            "2\n",
            "3\n",
            "4\n",
            "5\n",
            "6\n",
            "7\n",
            "8\n",
            "9\n",
            "10\n"
          ]
        }
      ],
      "source": [
        "for _ in range(1,11):\n",
        "  print(_)"
      ]
    },
    {
      "cell_type": "code",
      "execution_count": null,
      "metadata": {
        "colab": {
          "base_uri": "https://localhost:8080/"
        },
        "id": "2FiVr6DamsRb",
        "outputId": "1669e4c4-3505-4fe8-cd4e-d5b54abcc4df"
      },
      "outputs": [
        {
          "name": "stdout",
          "output_type": "stream",
          "text": [
            "1\n",
            "2\n",
            "3\n",
            "4\n",
            "5\n",
            "6\n",
            "7\n",
            "8\n",
            "9\n",
            "10\n"
          ]
        }
      ],
      "source": [
        "_=1\n",
        "while _<=10:\n",
        "  print(_)\n",
        "  _+=1"
      ]
    },
    {
      "cell_type": "markdown",
      "metadata": {
        "id": "cKDeRx8ueLnb"
      },
      "source": [
        "### 13. If you had a function named bacon() inside a module named spam, how would you call it after importing spam?\n",
        "\n",
        "```py\n",
        "spam.bacon()\n",
        "```"
      ]
    }
  ],
  "metadata": {
    "colab": {
      "authorship_tag": "ABX9TyMqpgv/OXQtRbudS5LDKbHa",
      "collapsed_sections": [],
      "include_colab_link": true,
      "name": "Assignment-01-02.ipynb",
      "provenance": []
    },
    "kernelspec": {
      "display_name": "Python 3",
      "name": "python3"
    },
    "language_info": {
      "name": "python"
    }
  },
  "nbformat": 4,
  "nbformat_minor": 0
}
