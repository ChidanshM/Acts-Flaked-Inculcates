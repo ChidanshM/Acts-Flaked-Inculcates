{
  "nbformat": 4,
  "nbformat_minor": 0,
  "metadata": {
    "colab": {
      "name": "Assignment-01-02.ipynb",
      "provenance": [],
      "collapsed_sections": [],
      "authorship_tag": "ABX9TyMqpgv/OXQtRbudS5LDKbHa",
      "include_colab_link": true
    },
    "kernelspec": {
      "name": "python3",
      "display_name": "Python 3"
    },
    "language_info": {
      "name": "python"
    }
  },
  "cells": [
    {
      "cell_type": "markdown",
      "metadata": {
        "id": "view-in-github",
        "colab_type": "text"
      },
      "source": [
        "<a href=\"https://colab.research.google.com/github/ChidanshM/FSDS/blob/main/01_PythonBasicAssignment/Assignment-01-02.ipynb\" target=\"_parent\"><img src=\"https://colab.research.google.com/assets/colab-badge.svg\" alt=\"Open In Colab\"/></a>"
      ]
    },
    {
      "cell_type": "markdown",
      "source": [
        "# 01-Python_Basic_Assignment:\n",
        "## Assignment 02"
      ],
      "metadata": {
        "id": "T3IzOhU30thm"
      }
    },
    {
      "cell_type": "markdown",
      "source": [
        "### 1.What are the two values of the Boolean data type? How do you write them?\n",
        "\n",
        "> ```py\n",
        "True\n",
        "False\n",
        "```"
      ],
      "metadata": {
        "id": "bUQn8_UM1CLQ"
      }
    },
    {
      "cell_type": "markdown",
      "source": [
        "### 2. What are the three different types of Boolean operators?\n",
        "\n",
        "`and` , `or` and `not`"
      ],
      "metadata": {
        "id": "Nd-NPW1lNScB"
      }
    },
    {
      "cell_type": "markdown",
      "source": [
        "### 3. Make a list of each Boolean operator's truth tables (i.e. every possible combination of Boolean values for the operator and what it evaluate ).\n",
        "* `and`\n",
        "\n",
        "|A|B|A and B|\n",
        "  |--|--|--|\n",
        "  |True|True|True|\n",
        "  |False|True|False|\n",
        "  |True|False|False|\n",
        "  |False|False|False|\n",
        "\n",
        "* `or`\n",
        "\n",
        "|A|B|A or B|\n",
        "  |--|--|--|\n",
        "  |True|True|True|\n",
        "  |False|True|True|\n",
        "  |True|False|True|\n",
        "  |False|False|False|\n",
        "  \n",
        "* `not`\n",
        "\n",
        "| A\t| not A |\n",
        "  | --|--|\n",
        "  |True\t| False |\n",
        "  |False | True |\n"
      ],
      "metadata": {
        "id": "7lUnCKeyOXCY"
      }
    },
    {
      "cell_type": "markdown",
      "source": [
        "### 4. What are the values of the following expressions?\n",
        "exp|ans|\n",
        "--|--|\n",
        "`(5 > 4) and (3 == 5)`|`False`\n",
        "`not (5 > 4)`|`False`|\n",
        "`(5 > 4) or (3 == 5)`|`True`\n",
        "`not ((5 > 4) or (3 == 5))`|`False`\n",
        "`(True and True) and (True == False)`|`False`\n",
        "`(not False) or (not True)`|`True`"
      ],
      "metadata": {
        "id": "EpBRvrYYPwio"
      }
    },
    {
      "cell_type": "markdown",
      "source": [
        "### 5. What are the six comparison operators?\n",
        "`<`, `>`, `==`, `<=`, `>=` and `!=` "
      ],
      "metadata": {
        "id": "1qFz-HLlRD4_"
      }
    },
    {
      "cell_type": "markdown",
      "source": [
        "### 6. How do you tell the difference between the equal to and assignment operators?Describe a condition and when you would use one. \n",
        "\n",
        "* equal to operator `==` is used for comparing whether two operands are same or not.\n",
        "\n",
        "* assignment operator `=` is used to assign the value on the right to the variable on the left\n",
        "\n"
      ],
      "metadata": {
        "id": "d5t9mLovRys_"
      }
    },
    {
      "cell_type": "markdown",
      "source": [
        "### 7. Identify the three blocks in this code:\n",
        "```py\n",
        "spam = 0\n",
        "if spam == 10:\n",
        "print('eggs')\n",
        "if spam > 5:\n",
        "print('bacon')\n",
        "else:\n",
        "print('ham')\n",
        "print('spam')\n",
        "print('spam')\n",
        "```\n",
        "\n",
        "Three blocks are:\n",
        "```py\n",
        "if spam == 10:\n",
        "  print('eggs')\n",
        "``` \n",
        "```py\n",
        "if spam > 5:\n",
        "  print('bacon')\n",
        "```\n",
        "```py\n",
        "else:\n",
        "  print('ham')\n",
        "```\n"
      ],
      "metadata": {
        "id": "uHpZSz1ddgfw"
      }
    },
    {
      "cell_type": "markdown",
      "source": [
        "### 8. Write code that prints Hello if 1 is stored in spam, prints Howdy if 2 is stored in spam, and prints Greetings! if anything else is stored in spam."
      ],
      "metadata": {
        "id": "Q15hwr7FdyiC"
      }
    },
    {
      "cell_type": "code",
      "source": [
        "spam=int(input())\n",
        "if spam == 1:\n",
        "  print(\"Hello\")\n",
        "elif spam == 2:\n",
        "  print(\"Howdy\")\n",
        "else:\n",
        "  print(\"Greetings!\")"
      ],
      "metadata": {
        "colab": {
          "base_uri": "https://localhost:8080/"
        },
        "id": "6omXL6digOcT",
        "outputId": "a3bf94c3-64e3-4677-ec5a-36a54677c596"
      },
      "execution_count": null,
      "outputs": [
        {
          "output_type": "stream",
          "name": "stdout",
          "text": [
            "0\n",
            "Greetings!\n"
          ]
        }
      ]
    },
    {
      "cell_type": "markdown",
      "source": [
        "### 9. If your programme is stuck in an endless loop, what keys you’ll press?\n",
        "\n",
        "Ctrl + C"
      ],
      "metadata": {
        "id": "5Kbu_2aWd7Qm"
      }
    },
    {
      "cell_type": "markdown",
      "source": [
        "### 10. How can you tell the difference between break and continue?\n",
        "When break keyword is encountered, it will exit the loop. While in case of continue keyword, the current iteration that is running will be stopped, and it will proceed with the next iteration."
      ],
      "metadata": {
        "id": "iuexKucUd-_z"
      }
    },
    {
      "cell_type": "markdown",
      "source": [
        "### 11. In a for loop, what is the difference between range(10), range(0, 10), and range(0, 10, 1)?\n",
        "\n",
        "* In `range(10)` only stop is defined.\n",
        "* In `range(0,10)` start and stop are defined.\n",
        "* In `range(0,10,1)` start, stop and step all are defined."
      ],
      "metadata": {
        "id": "QzpdZAOGeDpM"
      }
    },
    {
      "cell_type": "markdown",
      "source": [
        "### 12. Write a short program that prints the numbers 1 to 10 using a for loop. Then write an equivalent program that prints the numbers 1 to 10 using a while loop.\n"
      ],
      "metadata": {
        "id": "cKGFv29FeG4l"
      }
    },
    {
      "cell_type": "code",
      "source": [
        "for _ in range(1,11):\n",
        "  print(_)"
      ],
      "metadata": {
        "colab": {
          "base_uri": "https://localhost:8080/"
        },
        "id": "XWZa9RfAmjYb",
        "outputId": "c34b834e-4786-4715-ffa4-48d21fa540ac"
      },
      "execution_count": null,
      "outputs": [
        {
          "output_type": "stream",
          "name": "stdout",
          "text": [
            "1\n",
            "2\n",
            "3\n",
            "4\n",
            "5\n",
            "6\n",
            "7\n",
            "8\n",
            "9\n",
            "10\n"
          ]
        }
      ]
    },
    {
      "cell_type": "code",
      "source": [
        "_=1\n",
        "while _<=10:\n",
        "  print(_)\n",
        "  _+=1"
      ],
      "metadata": {
        "colab": {
          "base_uri": "https://localhost:8080/"
        },
        "id": "2FiVr6DamsRb",
        "outputId": "1669e4c4-3505-4fe8-cd4e-d5b54abcc4df"
      },
      "execution_count": null,
      "outputs": [
        {
          "output_type": "stream",
          "name": "stdout",
          "text": [
            "1\n",
            "2\n",
            "3\n",
            "4\n",
            "5\n",
            "6\n",
            "7\n",
            "8\n",
            "9\n",
            "10\n"
          ]
        }
      ]
    },
    {
      "cell_type": "markdown",
      "source": [
        "### 13. If you had a function named bacon() inside a module named spam, how would you call it after importing spam?\n",
        "\n",
        "```py\n",
        "spam.bacon()\n",
        "```"
      ],
      "metadata": {
        "id": "cKDeRx8ueLnb"
      }
    }
  ]
}
